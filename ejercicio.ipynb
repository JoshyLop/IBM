{
 "cells": [
  {
   "cell_type": "markdown",
   "id": "17bfe063",
   "metadata": {},
   "source": [
    "# titulo\n",
    "## subtitulo\n",
    "### sección\n",
    "#### 1. Nombre de la sección\n",
    "\n",
    "Esta es una prueba de como escribir en maarkdown\n",
    "\n",
    "**Texto en negritas**\n",
    "\n",
    "**elementos listados**\n",
    "-elemento 1\n",
    "-elemento 2\n",
    "    -elemento 2.1\n",
    "\n",
    "**Tablas**\n",
    "|Columna 1 | Coumna 2 |\n",
    "|----------|----------|\n",
    "| Dato 1   | Dato 2   |\n",
    "\n"
   ]
  },
  {
   "cell_type": "code",
   "execution_count": 2,
   "id": "aecb08af",
   "metadata": {},
   "outputs": [
    {
     "name": "stdout",
     "output_type": "stream",
     "text": [
      "El valor de la variable es 18\n"
     ]
    }
   ],
   "source": [
    "nombre_variable = 18\n",
    "print(f\"El valor de la variable es {nombre_variable}\")"
   ]
  },
  {
   "cell_type": "markdown",
   "id": "8a264fec",
   "metadata": {},
   "source": [
    "## Ejemplo de código Python\n",
    "\n",
    "```python\n",
    "nombre_variable = 18\n",
    "print(f\"El valor de la variable es {nombre_variable}\")\n",
    "```\n",
    "\n",
    "También puedes mostrar código de otros lenguajes:\n",
    "\n",
    "```javascript\n",
    "let mensaje = \"Hola mundo\";\n",
    "console.log(mensaje);\n",
    "```\n",
    "\n",
    "```sql\n",
    "SELECT * FROM usuarios WHERE edad > 18;\n",
    "```"
   ]
  }
 ],
 "metadata": {
  "kernelspec": {
   "display_name": "Python 3",
   "language": "python",
   "name": "python3"
  },
  "language_info": {
   "codemirror_mode": {
    "name": "ipython",
    "version": 3
   },
   "file_extension": ".py",
   "mimetype": "text/x-python",
   "name": "python",
   "nbconvert_exporter": "python",
   "pygments_lexer": "ipython3",
   "version": "3.13.4"
  }
 },
 "nbformat": 4,
 "nbformat_minor": 5
}
