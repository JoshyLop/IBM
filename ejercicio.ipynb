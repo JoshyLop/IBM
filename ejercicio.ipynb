{
 "cells": [
  {
   "cell_type": "markdown",
   "id": "17bfe063",
   "metadata": {},
   "source": [
    "# titulo\n",
    "## subtitulo\n",
    "### sección\n",
    "#### 1. Nombre de la sección\n",
    "\n",
    "Esta es una prueba de como escribir en maarkdown\n",
    "\n",
    "**Texto en negritas**\n",
    "\n",
    "**elementos listados**\n",
    "-elemento 1\n",
    "-elemento 2\n",
    "    -elemento 2.1\n",
    "\n",
    "**Tablas**\n",
    "|Columna 1 | Coumna 2 |\n",
    "|----------|----------|\n",
    "| Dato 1   | Dato 2   |\n",
    "\n"
   ]
  },
  {
   "cell_type": "code",
   "execution_count": 2,
   "id": "aecb08af",
   "metadata": {},
   "outputs": [
    {
     "name": "stdout",
     "output_type": "stream",
     "text": [
      "El valor de la variable es 18\n"
     ]
    }
   ],
   "source": [
    "nombre_variable = 18\n",
    "print(f\"El valor de la variable es {nombre_variable}\")"
   ]
  },
  {
   "cell_type": "code",
   "execution_count": 16,
   "id": "a5579b4e",
   "metadata": {},
   "outputs": [
    {
     "name": "stdout",
     "output_type": "stream",
     "text": [
      "Hola jos!\n",
      "Tu edad es: 23 años\n"
     ]
    }
   ],
   "source": [
    "# Ejemplo básico de input\n",
    "nombre = input(\"Ingresa tu nombre: \")\n",
    "print(f\"Hola {nombre}!\")\n",
    "\n",
    "# Input para números con mensaje más claro\n",
    "year_born = int(input(\"Ingresa tu año de nacimiento: \"))\n",
    "edad = 2025 - year_born\n",
    "print(f\"Tu edad es: {edad} años\")"
   ]
  },
  {
   "cell_type": "markdown",
   "id": "8a403de7",
   "metadata": {},
   "source": [
    "## Ejemplos de input()"
   ]
  },
  {
   "cell_type": "code",
   "execution_count": null,
   "id": "43b1e0e0",
   "metadata": {},
   "outputs": [],
   "source": [
    "# Más ejemplos de input()\n",
    "#\n",
    "# Input con opciones\n",
    "print(\"¿Cuál es tu color favorito?\")\n",
    "print(\"1. Rojo\")\n",
    "print(\"2. Azul\") \n",
    "print(\"3. Verde\")\n",
    "opcion = input(\"Selecciona una opción (1-3): \")\n",
    "\n",
    "if opcion == \"1\":\n",
    "    print(\"¡El rojo es un color vibrante!\")\n",
    "elif opcion == \"2\":\n",
    "    print(\"¡El azul es muy relajante!\")\n",
    "elif opcion == \"3\":\n",
    "    print(\"¡El verde es el color de la naturaleza!\")\n",
    "else:\n",
    "    print(\"Opción no válida\")\n",
    "\n",
    "# Input múltiple en una línea\n",
    "datos = input(\"Ingresa tu nombre y apellido separados por espacio: \").split()\n",
    "if len(datos) >= 2:\n",
    "    nombre, apellido = datos[0], datos[1]\n",
    "    print(f\"Nombre: {nombre}, Apellido: {apellido}\")\n",
    "\n",
    "# Input para confirmar (sí/no)\n",
    "confirmacion = input(\"¿Quieres continuar? (s/n): \").lower()\n",
    "if confirmacion in ['s', 'si', 'sí', 'yes', 'y']:\n",
    "    print(\"¡Continuamos!\")\n",
    "else:\n",
    "    print(\"Operación cancelada\")"
   ]
  },
  {
   "cell_type": "code",
   "execution_count": 21,
   "id": "85a48728",
   "metadata": {},
   "outputs": [
    {
     "name": "stdout",
     "output_type": "stream",
     "text": [
      "{'jabon': 22, 'shampoo': 33, 'acondicionador': 50}\n",
      "El precio total de los productos es: 105\n",
      "El producto más caro es: acondicionador con un precio de 50\n"
     ]
    }
   ],
   "source": [
    "product1=input(\"Introduce el nombre de un producto y su precio, separado por una coma: \")\n",
    "price1=int(input(f\"Introduce el precio de {product1}: \"))\n",
    "product2=input(\"Introduce el nombre de un producto y su precio, separado por una coma: \")\n",
    "price2=int(input(f\"Introduce el precio de {product2}: \"))\n",
    "product3=input(\"Introduce el nombre de un producto y su precio, separado por una coma: \")\n",
    "price3=int(input(f\"Introduce el precio de {product3}: \"))\n",
    "\n",
    "product_list={product1: price1, product2: price2, product3: price3}\n",
    "totalPrice=price1+price2+price3\n",
    "print(product_list)\n",
    "print(\"El precio total de los productos es:\", totalPrice\n",
    ")\n",
    "productoMasCaro = max(product_list, key=product_list.get)\n",
    "print(f\"El producto más caro es: {productoMasCaro} con un precio de {product_list[productoMasCaro]}\")"
   ]
  }
 ],
 "metadata": {
  "kernelspec": {
   "display_name": "Python 3",
   "language": "python",
   "name": "python3"
  },
  "language_info": {
   "codemirror_mode": {
    "name": "ipython",
    "version": 3
   },
   "file_extension": ".py",
   "mimetype": "text/x-python",
   "name": "python",
   "nbconvert_exporter": "python",
   "pygments_lexer": "ipython3",
   "version": "3.13.4"
  }
 },
 "nbformat": 4,
 "nbformat_minor": 5
}
